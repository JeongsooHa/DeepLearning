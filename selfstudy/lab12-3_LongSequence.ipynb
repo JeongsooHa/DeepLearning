{
 "cells": [
  {
   "cell_type": "code",
   "execution_count": 1,
   "metadata": {},
   "outputs": [],
   "source": [
    "import tensorflow as tf\n",
    "import numpy as np\n",
    "tf.set_random_seed(777)  # reproducibility\n"
   ]
  },
  {
   "cell_type": "code",
   "execution_count": 2,
   "metadata": {},
   "outputs": [],
   "source": [
    "sample = \" if you want you\"\n",
    "idx2char = list(set(sample))  # index -> char\n",
    "char2idx = {c: i for i, c in enumerate(idx2char)}  # char -> idex\n"
   ]
  },
  {
   "cell_type": "code",
   "execution_count": 5,
   "metadata": {},
   "outputs": [
    {
     "name": "stdout",
     "output_type": "stream",
     "text": [
      "['y', ' ', 'w', 'f', 'a', 'n', 'u', 't', 'o', 'i']\n",
      "{'y': 0, ' ': 1, 'w': 2, 'f': 3, 'a': 4, 'n': 5, 'u': 6, 't': 7, 'o': 8, 'i': 9}\n"
     ]
    }
   ],
   "source": [
    "print(idx2char)\n",
    "print(char2idx)"
   ]
  },
  {
   "cell_type": "code",
   "execution_count": 6,
   "metadata": {},
   "outputs": [],
   "source": [
    "sample_idx = [char2idx[c] for c in sample]  # char to index\n",
    "x_data = [sample_idx[:-1]]  # X data sample (0 ~ n-1) hello: hell\n",
    "y_data = [sample_idx[1:]]   # Y label sample (1 ~ n) hello: ello"
   ]
  },
  {
   "cell_type": "code",
   "execution_count": 8,
   "metadata": {},
   "outputs": [
    {
     "data": {
      "text/plain": [
       "[[1, 9, 3, 1, 0, 8, 6, 1, 2, 4, 5, 7, 1, 0, 8]]"
      ]
     },
     "execution_count": 8,
     "metadata": {},
     "output_type": "execute_result"
    }
   ],
   "source": [
    "x_data"
   ]
  },
  {
   "cell_type": "code",
   "execution_count": 9,
   "metadata": {},
   "outputs": [
    {
     "data": {
      "text/plain": [
       "[[9, 3, 1, 0, 8, 6, 1, 2, 4, 5, 7, 1, 0, 8, 6]]"
      ]
     },
     "execution_count": 9,
     "metadata": {},
     "output_type": "execute_result"
    }
   ],
   "source": [
    "y_data"
   ]
  },
  {
   "cell_type": "code",
   "execution_count": 14,
   "metadata": {},
   "outputs": [],
   "source": [
    "# hyper parameters\n",
    "dic_size = len(char2idx)  # RNN input size (one hot size)\n",
    "hidden_size = len(char2idx)  # RNN output size\n",
    "num_classes = len(char2idx)  # final output size (RNN or softmax, etc.)\n",
    "batch_size = 1  # one sample data, one batch\n",
    "sequence_length = len(sample) - 1  # number of lstm rollings (unit #)\n",
    "learning_rate = 0.1\n",
    "\n",
    "X = tf.placeholder(tf.int32, [None, sequence_length])  # X data\n",
    "Y = tf.placeholder(tf.int32, [None, sequence_length])  # Y label\n",
    "\n",
    "x_one_hot = tf.one_hot(X, num_classes)  # one hot: 1 -> 0 1 0 0 0 0 0 0 0 0"
   ]
  },
  {
   "cell_type": "code",
   "execution_count": 15,
   "metadata": {},
   "outputs": [
    {
     "data": {
      "text/plain": [
       "<tf.Tensor 'one_hot_1:0' shape=(?, 15, 10) dtype=float32>"
      ]
     },
     "execution_count": 15,
     "metadata": {},
     "output_type": "execute_result"
    }
   ],
   "source": [
    "x_one_hot"
   ]
  },
  {
   "cell_type": "code",
   "execution_count": 16,
   "metadata": {},
   "outputs": [],
   "source": [
    "cell = tf.contrib.rnn.BasicLSTMCell(\n",
    "    num_units=hidden_size, state_is_tuple=True)\n",
    "initial_state = cell.zero_state(batch_size, tf.float32)\n",
    "outputs, _states = tf.nn.dynamic_rnn(\n",
    "    cell, x_one_hot, initial_state=initial_state, dtype=tf.float32)\n",
    "\n",
    "# FC layer\n",
    "X_for_fc = tf.reshape(outputs, [-1, hidden_size])\n",
    "outputs = tf.contrib.layers.fully_connected(X_for_fc, num_classes, activation_fn=None)\n",
    "\n",
    "# reshape out for sequence_loss\n",
    "outputs = tf.reshape(outputs, [batch_size, sequence_length, num_classes])\n",
    "\n",
    "weights = tf.ones([batch_size, sequence_length])\n",
    "sequence_loss = tf.contrib.seq2seq.sequence_loss(\n",
    "    logits=outputs, targets=Y, weights=weights)\n",
    "loss = tf.reduce_mean(sequence_loss)\n",
    "train = tf.train.AdamOptimizer(learning_rate=learning_rate).minimize(loss)\n",
    "\n",
    "prediction = tf.argmax(outputs, axis=2)"
   ]
  },
  {
   "cell_type": "code",
   "execution_count": 17,
   "metadata": {},
   "outputs": [
    {
     "name": "stdout",
     "output_type": "stream",
     "text": [
      "0 loss: 2.30188 Prediction: yyyyoooooooyooo\n",
      "1 loss: 2.16103 Prediction:      uuuuuuuouu\n",
      "2 loss: 2.07389 Prediction:      u        u\n",
      "3 loss: 1.9379 Prediction:      u        u\n",
      "4 loss: 1.80821 Prediction:      u       ou\n",
      "5 loss: 1.58889 Prediction:    youuoun  you\n",
      "6 loss: 1.33929 Prediction:    youuwunt you\n",
      "7 loss: 1.08475 Prediction: i  you want you\n",
      "8 loss: 0.814583 Prediction: if you want you\n",
      "9 loss: 0.604403 Prediction: if you want you\n",
      "10 loss: 0.438769 Prediction: if you want you\n",
      "11 loss: 0.311746 Prediction: if you want you\n",
      "12 loss: 0.221046 Prediction: if you want you\n",
      "13 loss: 0.155526 Prediction: if you want you\n",
      "14 loss: 0.108418 Prediction: if you want you\n",
      "15 loss: 0.0756977 Prediction: if you want you\n",
      "16 loss: 0.0533878 Prediction: if you want you\n",
      "17 loss: 0.0381673 Prediction: if you want you\n",
      "18 loss: 0.0277041 Prediction: if you want you\n",
      "19 loss: 0.0204334 Prediction: if you want you\n",
      "20 loss: 0.0153127 Prediction: if you want you\n",
      "21 loss: 0.0116544 Prediction: if you want you\n",
      "22 loss: 0.00900723 Prediction: if you want you\n",
      "23 loss: 0.0070709 Prediction: if you want you\n",
      "24 loss: 0.00564111 Prediction: if you want you\n",
      "25 loss: 0.00457556 Prediction: if you want you\n",
      "26 loss: 0.00377373 Prediction: if you want you\n",
      "27 loss: 0.00316354 Prediction: if you want you\n",
      "28 loss: 0.00269324 Prediction: if you want you\n",
      "29 loss: 0.00232561 Prediction: if you want you\n",
      "30 loss: 0.00203398 Prediction: if you want you\n",
      "31 loss: 0.00179922 Prediction: if you want you\n",
      "32 loss: 0.0016075 Prediction: if you want you\n",
      "33 loss: 0.00144897 Prediction: if you want you\n",
      "34 loss: 0.00131644 Prediction: if you want you\n",
      "35 loss: 0.00120448 Prediction: if you want you\n",
      "36 loss: 0.00110916 Prediction: if you want you\n",
      "37 loss: 0.00102744 Prediction: if you want you\n",
      "38 loss: 0.000956976 Prediction: if you want you\n",
      "39 loss: 0.000895834 Prediction: if you want you\n",
      "40 loss: 0.00084252 Prediction: if you want you\n",
      "41 loss: 0.000795718 Prediction: if you want you\n",
      "42 loss: 0.000754438 Prediction: if you want you\n",
      "43 loss: 0.000717791 Prediction: if you want you\n",
      "44 loss: 0.000685168 Prediction: if you want you\n",
      "45 loss: 0.000655885 Prediction: if you want you\n",
      "46 loss: 0.000629563 Prediction: if you want you\n",
      "47 loss: 0.000605804 Prediction: if you want you\n",
      "48 loss: 0.000584331 Prediction: if you want you\n",
      "49 loss: 0.000564899 Prediction: if you want you\n"
     ]
    }
   ],
   "source": [
    "with tf.Session() as sess:\n",
    "    sess.run(tf.global_variables_initializer())\n",
    "    for i in range(50):\n",
    "        l, _ = sess.run([loss, train], feed_dict={X: x_data, Y: y_data})\n",
    "        result = sess.run(prediction, feed_dict={X: x_data})\n",
    "\n",
    "        # print char using dic\n",
    "        result_str = [idx2char[c] for c in np.squeeze(result)]\n",
    "\n",
    "        print(i, \"loss:\", l, \"Prediction:\", ''.join(result_str))"
   ]
  },
  {
   "cell_type": "code",
   "execution_count": null,
   "metadata": {},
   "outputs": [],
   "source": []
  }
 ],
 "metadata": {
  "kernelspec": {
   "display_name": "tensorflow",
   "language": "python",
   "name": "tensorflow"
  },
  "language_info": {
   "codemirror_mode": {
    "name": "ipython",
    "version": 3
   },
   "file_extension": ".py",
   "mimetype": "text/x-python",
   "name": "python",
   "nbconvert_exporter": "python",
   "pygments_lexer": "ipython3",
   "version": "3.6.2"
  }
 },
 "nbformat": 4,
 "nbformat_minor": 2
}
